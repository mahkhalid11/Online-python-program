{
 "cells": [
  {
   "cell_type": "code",
   "execution_count": 1,
   "id": "1fe6c2a5",
   "metadata": {},
   "outputs": [
    {
     "name": "stdout",
     "output_type": "stream",
     "text": [
      "85.33333333333334\n"
     ]
    }
   ],
   "source": [
    "eng = 75;\n",
    "isl = 89;\n",
    "maths = 92;\n",
    "totalmarks = 300;\n",
    "obtainmarks = eng + isl + maths;\n",
    "percent = obtainmarks / totalmarks * 100;\n",
    "print(percent);"
   ]
  },
  {
   "cell_type": "code",
   "execution_count": 2,
   "id": "4e066620",
   "metadata": {},
   "outputs": [
    {
     "name": "stdout",
     "output_type": "stream",
     "text": [
      "85\n"
     ]
    }
   ],
   "source": [
    "eng = 75;\n",
    "isl = 89;\n",
    "maths = 92;\n",
    "totalmarks = 300;\n",
    "obtainmarks = eng + isl + maths;\n",
    "percent = obtainmarks / totalmarks * 100;\n",
    "print(round(percent));\n"
   ]
  },
  {
   "cell_type": "code",
   "execution_count": 3,
   "id": "635a6433",
   "metadata": {},
   "outputs": [
    {
     "name": "stdout",
     "output_type": "stream",
     "text": [
      "Grade A+\n"
     ]
    }
   ],
   "source": [
    "eng = 75;\n",
    "isl = 89;\n",
    "maths = 92;\n",
    "totalmarks = 300;\n",
    "obtainmarks = eng + isl + maths;\n",
    "percent = obtainmarks / totalmarks * 100;\n",
    "percent = round(percent);\n",
    "if percent < 100 and percent >= 80:\n",
    "    print(\"Grade A+\");\n",
    "elif percent < 80 and percent >= 75:\n",
    "    print(\"Grade A\");\n",
    "elif percent < 75 and percent >= 65:\n",
    "    print(\"Grade B+\");\n",
    "elif percent < 65 and percent >= 55:\n",
    "    print(\"Grade B\");\n",
    "elif percent < 55 and percent >= 45:\n",
    "    print(\"Grade D\");\n",
    "elif percent < 45 and percent >= 35:\n",
    "    print(\"Grade E\");\n",
    "else:\n",
    "    print(\"Fail\");\n"
   ]
  },
  {
   "cell_type": "code",
   "execution_count": null,
   "id": "d3adda94",
   "metadata": {},
   "outputs": [],
   "source": []
  }
 ],
 "metadata": {
  "kernelspec": {
   "display_name": "Python 3",
   "language": "python",
   "name": "python3"
  },
  "language_info": {
   "codemirror_mode": {
    "name": "ipython",
    "version": 3
   },
   "file_extension": ".py",
   "mimetype": "text/x-python",
   "name": "python",
   "nbconvert_exporter": "python",
   "pygments_lexer": "ipython3",
   "version": "3.8.8"
  }
 },
 "nbformat": 4,
 "nbformat_minor": 5
}
