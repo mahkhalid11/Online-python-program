{
 "cells": [
  {
   "cell_type": "code",
   "execution_count": 1,
   "id": "c6d2397c",
   "metadata": {},
   "outputs": [
    {
     "name": "stdout",
     "output_type": "stream",
     "text": [
      "76\n"
     ]
    }
   ],
   "source": [
    "maths = 77;\n",
    "isl = 86;\n",
    "eng = 65;\n",
    "totalmarks = 300;\n",
    "percent = ((maths + isl + eng) / totalmarks) * 100;\n",
    "percent =  round(percent);\n",
    "print(percent);"
   ]
  },
  {
   "cell_type": "code",
   "execution_count": 2,
   "id": "1360220a",
   "metadata": {},
   "outputs": [
    {
     "name": "stdout",
     "output_type": "stream",
     "text": [
      "Grade A\n"
     ]
    }
   ],
   "source": [
    "maths = 77;\n",
    "isl = 86;\n",
    "eng = 65;\n",
    "totalmarks = 300;\n",
    "percent = ((maths + isl + eng) / totalmarks) * 100;\n",
    "percent =  round(percent);\n",
    "if percent < 100 and percent >=80:\n",
    "    print(\"Grade A+\");\n",
    "elif percent < 80 and percent >=75:\n",
    "    print(\"Grade A\");\n",
    "elif percent < 75 and percent >=65:\n",
    "    print(\"Grade B+\");\n",
    "elif percent < 65 and percent >=55:\n",
    "    print(\"Grade B\");\n",
    "elif percent < 55 and percent >=45:\n",
    "    print(\"Grade C\");\n",
    "elif percent < 45 and percent >=35:\n",
    "    print(\"Grade D\");\n",
    "elif percent < 35 and percent >=34:\n",
    "    print(\"Grade E\");\n",
    "else:\n",
    "    print(\"fail\");"
   ]
  },
  {
   "cell_type": "code",
   "execution_count": 3,
   "id": "cb60fb34",
   "metadata": {},
   "outputs": [
    {
     "name": "stdout",
     "output_type": "stream",
     "text": [
      "Grade A+\n"
     ]
    }
   ],
   "source": [
    "maths = 89;\n",
    "isl = 86;\n",
    "eng = 79;\n",
    "totalmarks = 300;\n",
    "percent = ((maths + isl + eng) / totalmarks) * 100;\n",
    "percent =  round(percent);\n",
    "if percent < 100 and percent >=80:\n",
    "    print(\"Grade A+\");\n",
    "elif percent < 80 and percent >=75:\n",
    "    print(\"Grade A\");\n",
    "elif percent < 75 and percent >=65:\n",
    "    print(\"Grade B+\");\n",
    "elif percent < 65 and percent >=55:\n",
    "    print(\"Grade B\");\n",
    "elif percent < 55 and percent >=45:\n",
    "    print(\"Grade C\");\n",
    "elif percent < 45 and percent >=35:\n",
    "    print(\"Grade D\");\n",
    "elif percent < 35 and percent >=34:\n",
    "    print(\"Grade E\");\n",
    "else:\n",
    "    print(\"fail\");"
   ]
  },
  {
   "cell_type": "code",
   "execution_count": null,
   "id": "29def05f",
   "metadata": {},
   "outputs": [],
   "source": []
  }
 ],
 "metadata": {
  "kernelspec": {
   "display_name": "Python 3",
   "language": "python",
   "name": "python3"
  },
  "language_info": {
   "codemirror_mode": {
    "name": "ipython",
    "version": 3
   },
   "file_extension": ".py",
   "mimetype": "text/x-python",
   "name": "python",
   "nbconvert_exporter": "python",
   "pygments_lexer": "ipython3",
   "version": "3.8.8"
  }
 },
 "nbformat": 4,
 "nbformat_minor": 5
}
